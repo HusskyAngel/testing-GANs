{
 "cells": [
  {
   "cell_type": "code",
   "execution_count": 12,
   "metadata": {},
   "outputs": [],
   "source": [
    "import splitfolders"
   ]
  },
  {
   "cell_type": "code",
   "execution_count": 15,
   "metadata": {},
   "outputs": [],
   "source": [
    "input_folder=\"./test_img_segmented\"\n",
    "output_folder=\"./processed_data\"\n",
    "splitfolders.ratio(input_folder,output_folder,seed=42,ratio=(.8,.2))"
   ]
  }
 ],
 "metadata": {
  "kernelspec": {
   "display_name": "Python 3.8.13 ('ml')",
   "language": "python",
   "name": "python3"
  },
  "language_info": {
   "codemirror_mode": {
    "name": "ipython",
    "version": 3
   },
   "file_extension": ".py",
   "mimetype": "text/x-python",
   "name": "python",
   "nbconvert_exporter": "python",
   "pygments_lexer": "ipython3",
   "version": "3.8.13"
  },
  "orig_nbformat": 4,
  "vscode": {
   "interpreter": {
    "hash": "f43c1a9aea32747c43e91a441d8fb03873a5d426551875d9207b8dcc1be9ea44"
   }
  }
 },
 "nbformat": 4,
 "nbformat_minor": 2
}
